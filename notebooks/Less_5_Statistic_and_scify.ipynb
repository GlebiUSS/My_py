{
 "nbformat": 4,
 "nbformat_minor": 0,
 "metadata": {
  "colab": {
   "name": "Копия блокнота \"Урок 5. Python. Статистика в работе аналитика с библиотекой Scipy.ipynb\"\"",
   "provenance": [
    {
     "file_id": "1Twmtm02zG7dU5kZKpo4HvrGKZCPTc_gP",
     "timestamp": 1644157362828
    },
    {
     "file_id": "1qWRBFPReIJEg3S7_dK1VShAHn6og7qWt",
     "timestamp": 1610629944478
    }
   ],
   "collapsed_sections": []
  },
  "kernelspec": {
   "name": "python3",
   "display_name": "Python 3"
  }
 },
 "cells": [
  {
   "cell_type": "markdown",
   "metadata": {
    "id": "i_U7xacSFtOz"
   },
   "source": [
    "# Задача анализа A/B тестов "
   ]
  },
  {
   "cell_type": "markdown",
   "metadata": {
    "id": "Vn9eMjscGHxK"
   },
   "source": [
    "1) A/B-тест с категориальной метерикой (метрикой пропорции)"
   ]
  },
  {
   "cell_type": "code",
   "metadata": {
    "id": "4yJML2JaFy_Q"
   },
   "source": [
    "# импортируем нужные библиотеки\n",
    "import pandas as pd"
   ],
   "execution_count": 36,
   "outputs": []
  },
  {
   "cell_type": "code",
   "metadata": {
    "colab": {
     "base_uri": "https://localhost:8080/",
     "height": 106
    },
    "id": "5-OIEEd8DLf1",
    "executionInfo": {
     "status": "ok",
     "timestamp": 1620320631100,
     "user_tz": -180,
     "elapsed": 1499,
     "user": {
      "displayName": "Александр Кровяков",
      "photoUrl": "",
      "userId": "13044897650393812439"
     }
    },
    "outputId": "681e99e4-b6b1-435d-f024-e4d533597854"
   },
   "source": [
    "# создаем датафрейм с результатами A/B-теста\n",
    "df = pd.DataFrame({'impressions': [5127, 5127],\n",
    "                   'clicks': [1145,1250]},\n",
    "                  index=['var_A', 'var_B'])\n",
    "df.head()"
   ],
   "execution_count": 37,
   "outputs": [
    {
     "data": {
      "text/plain": "       impressions  clicks\nvar_A         5127    1145\nvar_B         5127    1250",
      "text/html": "<div>\n<style scoped>\n    .dataframe tbody tr th:only-of-type {\n        vertical-align: middle;\n    }\n\n    .dataframe tbody tr th {\n        vertical-align: top;\n    }\n\n    .dataframe thead th {\n        text-align: right;\n    }\n</style>\n<table border=\"1\" class=\"dataframe\">\n  <thead>\n    <tr style=\"text-align: right;\">\n      <th></th>\n      <th>impressions</th>\n      <th>clicks</th>\n    </tr>\n  </thead>\n  <tbody>\n    <tr>\n      <th>var_A</th>\n      <td>5127</td>\n      <td>1145</td>\n    </tr>\n    <tr>\n      <th>var_B</th>\n      <td>5127</td>\n      <td>1250</td>\n    </tr>\n  </tbody>\n</table>\n</div>"
     },
     "execution_count": 37,
     "metadata": {},
     "output_type": "execute_result"
    }
   ]
  },
  {
   "cell_type": "code",
   "metadata": {
    "colab": {
     "base_uri": "https://localhost:8080/",
     "height": 106
    },
    "id": "AhLwtc94MuqF",
    "executionInfo": {
     "status": "ok",
     "timestamp": 1620320631101,
     "user_tz": -180,
     "elapsed": 1490,
     "user": {
      "displayName": "Александр Кровяков",
      "photoUrl": "",
      "userId": "13044897650393812439"
     }
    },
    "outputId": "9d7d8dcc-8109-4016-874f-e3d798244852"
   },
   "source": [
    "# создаем таблицу сопряженности на основе результатов A/B-теста\n",
    "df['no_clicks'] = df['impressions'] - df['clicks']\n",
    "df = df.drop(['impressions'], axis = 1)\n",
    "df.head()"
   ],
   "execution_count": 38,
   "outputs": [
    {
     "data": {
      "text/plain": "       clicks  no_clicks\nvar_A    1145       3982\nvar_B    1250       3877",
      "text/html": "<div>\n<style scoped>\n    .dataframe tbody tr th:only-of-type {\n        vertical-align: middle;\n    }\n\n    .dataframe tbody tr th {\n        vertical-align: top;\n    }\n\n    .dataframe thead th {\n        text-align: right;\n    }\n</style>\n<table border=\"1\" class=\"dataframe\">\n  <thead>\n    <tr style=\"text-align: right;\">\n      <th></th>\n      <th>clicks</th>\n      <th>no_clicks</th>\n    </tr>\n  </thead>\n  <tbody>\n    <tr>\n      <th>var_A</th>\n      <td>1145</td>\n      <td>3982</td>\n    </tr>\n    <tr>\n      <th>var_B</th>\n      <td>1250</td>\n      <td>3877</td>\n    </tr>\n  </tbody>\n</table>\n</div>"
     },
     "execution_count": 38,
     "metadata": {},
     "output_type": "execute_result"
    }
   ]
  },
  {
   "cell_type": "code",
   "metadata": {
    "colab": {
     "base_uri": "https://localhost:8080/"
    },
    "id": "VKbFXdf0C0gv",
    "executionInfo": {
     "status": "ok",
     "timestamp": 1620320631102,
     "user_tz": -180,
     "elapsed": 1482,
     "user": {
      "displayName": "Александр Кровяков",
      "photoUrl": "",
      "userId": "13044897650393812439"
     }
    },
    "outputId": "9b953087-f760-4db4-8589-412d72cc6238"
   },
   "source": [
    "# определяем значимость аб-теста\n",
    "import scipy.stats as stats\n",
    "result = stats.chi2_contingency(df, correction = False)\n",
    "chi2, p = result[:2]\n",
    "print('chi2 = {}, p = {}'.format(chi2, p))"
   ],
   "execution_count": 40,
   "outputs": [
    {
     "name": "stdout",
     "output_type": "stream",
     "text": [
      "chi2 = 6.0061905276744785, p = 0.014255771852168957\n"
     ]
    }
   ]
  },
  {
   "cell_type": "markdown",
   "metadata": {
    "id": "i9242qeiGN0J"
   },
   "source": [
    "Вывод: поскольку значимость A/B теста 0.014 менее допустимого уровня значимости 0,05, то нулевую гипотезу о равенстве конверсий в группах можно отклонить, т.е. группа B -действительно генерирует статистически больше кликов, чем группа A"
   ]
  },
  {
   "cell_type": "markdown",
   "metadata": {
    "id": "-lCYWWnTGBNX"
   },
   "source": [
    "2) A/B - тест с числовой метрикой"
   ]
  },
  {
   "cell_type": "code",
   "metadata": {
    "colab": {
     "base_uri": "https://localhost:8080/",
     "height": 194
    },
    "id": "gcN8TmzXOnOw",
    "executionInfo": {
     "status": "ok",
     "timestamp": 1620320631102,
     "user_tz": -180,
     "elapsed": 1472,
     "user": {
      "displayName": "Александр Кровяков",
      "photoUrl": "",
      "userId": "13044897650393812439"
     }
    },
    "outputId": "07012298-6710-4625-a050-b343dd75e8a8"
   },
   "source": [
    "# создаем датафрейм на основе словаря\n",
    "df = pd.DataFrame({'Day': [1,2,3,4,5,6,7,8,9,10],\n",
    "                   'Conversion_A': [0.15,0.12,0.18,0.19,0.17,0.13,0.14,0.23,0.11,0.15],\n",
    "                   'Conversion_B': [0.19,0.20,0.18,0.22,0.19,0.17,0.18,0.20,0.17,0.22]})\n",
    "df.head()\n"
   ],
   "execution_count": 5,
   "outputs": [
    {
     "data": {
      "text/plain": "   Day  Conversion_A  Conversion_B\n0    1          0.15          0.19\n1    2          0.12          0.20\n2    3          0.18          0.18\n3    4          0.19          0.22\n4    5          0.17          0.19",
      "text/html": "<div>\n<style scoped>\n    .dataframe tbody tr th:only-of-type {\n        vertical-align: middle;\n    }\n\n    .dataframe tbody tr th {\n        vertical-align: top;\n    }\n\n    .dataframe thead th {\n        text-align: right;\n    }\n</style>\n<table border=\"1\" class=\"dataframe\">\n  <thead>\n    <tr style=\"text-align: right;\">\n      <th></th>\n      <th>Day</th>\n      <th>Conversion_A</th>\n      <th>Conversion_B</th>\n    </tr>\n  </thead>\n  <tbody>\n    <tr>\n      <th>0</th>\n      <td>1</td>\n      <td>0.15</td>\n      <td>0.19</td>\n    </tr>\n    <tr>\n      <th>1</th>\n      <td>2</td>\n      <td>0.12</td>\n      <td>0.20</td>\n    </tr>\n    <tr>\n      <th>2</th>\n      <td>3</td>\n      <td>0.18</td>\n      <td>0.18</td>\n    </tr>\n    <tr>\n      <th>3</th>\n      <td>4</td>\n      <td>0.19</td>\n      <td>0.22</td>\n    </tr>\n    <tr>\n      <th>4</th>\n      <td>5</td>\n      <td>0.17</td>\n      <td>0.19</td>\n    </tr>\n  </tbody>\n</table>\n</div>"
     },
     "execution_count": 5,
     "metadata": {},
     "output_type": "execute_result"
    }
   ]
  },
  {
   "cell_type": "code",
   "metadata": {
    "colab": {
     "base_uri": "https://localhost:8080/",
     "height": 429
    },
    "id": "9vG8q1dsGz_p",
    "executionInfo": {
     "status": "ok",
     "timestamp": 1620320631641,
     "user_tz": -180,
     "elapsed": 2003,
     "user": {
      "displayName": "Александр Кровяков",
      "photoUrl": "",
      "userId": "13044897650393812439"
     }
    },
    "outputId": "33e57116-a633-469d-ffe4-03c35860ad29"
   },
   "source": [
    "# визуализируем наличие различий в группах аб-теста\n",
    "import matplotlib.pyplot as plt\n",
    "from matplotlib.ticker import PercentFormatter\n",
    "import seaborn as sns\n",
    "plt.figure(figsize=(5, 7))\n",
    "ax = sns.boxplot(data=df[['Conversion_A','Conversion_B']], palette=\"Set2\")\n",
    "ax.yaxis.set_major_formatter(PercentFormatter(xmax=1))"
   ],
   "execution_count": 12,
   "outputs": [
    {
     "data": {
      "text/plain": "<Figure size 360x504 with 1 Axes>",
      "image/png": "[encoded data removed]"
     },
     "metadata": {
      "needs_background": "light"
     },
     "output_type": "display_data"
    }
   ]
  },
  {
   "cell_type": "code",
   "metadata": {
    "colab": {
     "base_uri": "https://localhost:8080/"
    },
    "id": "qY-TS3O8efK9",
    "executionInfo": {
     "status": "ok",
     "timestamp": 1620320631642,
     "user_tz": -180,
     "elapsed": 1996,
     "user": {
      "displayName": "Александр Кровяков",
      "photoUrl": "",
      "userId": "13044897650393812439"
     }
    },
    "outputId": "0abade75-c808-4349-a022-df06d3b08fe0"
   },
   "source": [
    "# считаем значимость различий по аб-тесту\n",
    "import scipy.stats as stats\n",
    "t_stat, p_val= stats.ttest_ind(df['Conversion_B'],df['Conversion_A'])\n",
    "t_stat , p_val"
   ],
   "execution_count": 13,
   "outputs": [
    {
     "data": {
      "text/plain": "(2.7321154763851614, 0.013684259842725968)"
     },
     "execution_count": 13,
     "metadata": {},
     "output_type": "execute_result"
    }
   ]
  },
  {
   "cell_type": "markdown",
   "metadata": {
    "id": "RKPq022Mezts"
   },
   "source": [
    "Вывод: поскольку значимость A/B теста 0.013 менее допустимого уровня значимости 0,05, то нулевую гипотезу о равенстве конверсий в группах можно отклонить, т.е. группа B -действительно генерирует статистически больше покупателей, чем группа A"
   ]
  },
  {
   "cell_type": "markdown",
   "metadata": {
    "id": "Pnt0mr_tFn2d"
   },
   "source": [
    "# Задача оптимизации"
   ]
  },
  {
   "cell_type": "code",
   "metadata": {
    "id": "cfCcOog2SOL9"
   },
   "source": [
    "# Импортируем нужные бибилиотеки\n",
    "import numpy as np"
   ],
   "execution_count": 14,
   "outputs": []
  },
  {
   "cell_type": "code",
   "metadata": {
    "id": "kFFUYcn__2qB"
   },
   "source": [
    "# Задаем целевую функцию:\n",
    "# Компанией производится три вида продукции:\n",
    "# x0 — продающие лэндинги, от 10 т.р.\n",
    "# x1 — корпоративные сайты, от 20 т.р.\n",
    "# x2 — интернет магазины, от 30 т.р.\n",
    "\n",
    "def value(x):\n",
    "    return - 10*x[0] - 20*x[1] - 30*x[2]"
   ],
   "execution_count": 15,
   "outputs": []
  },
  {
   "cell_type": "code",
   "metadata": {
    "id": "Tdrz1fbxAGRc"
   },
   "source": [
    "# Задаем систему ограничений:\n",
    "# Дружный рабочий коллектив включает в себя четырех джунов, двух мидлов и одного сеньора. \n",
    "# Фонд их рабочего времени на месяц:\n",
    "# джуны: 4 * 150 = 600 чел * час,\n",
    "# мидлы: 2 * 150 = 300 чел * час,\n",
    "# сеньор: 150 чел * час.\n",
    "\n",
    "#Пусть на разработку и деплой одного сайта типа (x0, x1, x2) первый попавшийся джуниор \n",
    "# должен потратить (10, 20, 30) часов, мидл — (7, 15, 20), сеньор — (5, 10, 15) часов рабочего времен.\n",
    "\n",
    "neq_cons = {'type': 'ineq',\n",
    "             'fun': lambda x: np.array ([600 - 10 * x [0] - 20 * x [1] - 30 * x[2],\n",
    "                                         300 - 7  * x [0] - 15 * x [1] - 20 * x[2],\n",
    "                                         150 - 5  * x [0] - 10 * x [1] - 15 * x[2]])}"
   ],
   "execution_count": 16,
   "outputs": []
  },
  {
   "cell_type": "code",
   "metadata": {
    "id": "yow4ozrzAPfX"
   },
   "source": [
    "# Формальное ограничение — выпуск продукции должен быть только положительным:\n",
    "from scipy.optimize import Bounds\n",
    "bnds = Bounds([0, 0, 0], [np.inf, np.inf, np.inf])"
   ],
   "execution_count": null,
   "outputs": []
  },
  {
   "cell_type": "code",
   "metadata": {
    "colab": {
     "base_uri": "https://localhost:8080/"
    },
    "id": "3z3DgRq6AqRX",
    "executionInfo": {
     "status": "ok",
     "timestamp": 1620320631645,
     "user_tz": -180,
     "elapsed": 1980,
     "user": {
      "displayName": "Александр Кровяков",
      "photoUrl": "",
      "userId": "13044897650393812439"
     }
    },
    "outputId": "58b680d0-6482-4ebb-c09e-d543293b8616"
   },
   "source": [
    "# Максимизируем функцию ежемесячной прибыли\n",
    "from scipy.optimize import minimize\n",
    "x0 = np.array([10, 10, 10])\n",
    "res = minimize(value, x0, method='SLSQP', constraints=neq_cons, bounds=bnds)\n",
    "print(res.x)"
   ],
   "execution_count": null,
   "outputs": [
    {
     "output_type": "stream",
     "text": [
      "[7.85714286 5.71428571 3.57142857]\n"
     ],
     "name": "stdout"
    }
   ]
  },
  {
   "cell_type": "code",
   "metadata": {
    "colab": {
     "base_uri": "https://localhost:8080/"
    },
    "id": "GH7dBZ0eCZWo",
    "executionInfo": {
     "status": "ok",
     "timestamp": 1620320631645,
     "user_tz": -180,
     "elapsed": 1975,
     "user": {
      "displayName": "Александр Кровяков",
      "photoUrl": "",
      "userId": "13044897650393812439"
     }
    },
    "outputId": "fc0a2af8-58d6-44bd-89b2-dd99c841d08f"
   },
   "source": [
    "# Нестрого округлим до целых и посчитаем месячную загрузку гребцов при оптимальном раскладе продукции x = (8, 6, 3) :\n",
    "print('джуны:', 8 * 10 + 6 * 20 + 3 * 30, 'чел.*час')\n",
    "print('мидлы:', 8 * 7 + 6 * 15 + 3 * 20, 'чел.*час')\n",
    "print('сеньор:', 8 * 5 + 6 * 10 + 3 * 15, 'чел.*час')\n",
    "print('максимизированная прибыль составит:', -1*value([8, 6, 3]),'тыс.руб./месяц')"
   ],
   "execution_count": null,
   "outputs": [
    {
     "output_type": "stream",
     "text": [
      "джуны: 290 чел.*час\n",
      "мидлы: 206 чел.*час\n",
      "сеньор: 145 чел.*час\n",
      "максимизированная прибыль составит: 290 тыс.руб./месяц\n"
     ],
     "name": "stdout"
    }
   ]
  },
  {
   "cell_type": "markdown",
   "metadata": {
    "id": "DdTvzP_bGuJf"
   },
   "source": [
    "Вывод: чтобы студия получала максимульную выручку, оптимально делать в месяц по 8 лэндингов, 6 средних сайтов и 3 магазина. Сеньор при этом должен работать 100% от фонда рабочего времени, загрузка мидлов составит примерно 2/3, джунов меньше половины."
   ]
  },
  {
   "cell_type": "markdown",
   "metadata": {
    "id": "7JfzXrOAL8iu"
   },
   "source": [
    "# Задача аппроксимации"
   ]
  },
  {
   "cell_type": "code",
   "metadata": {
    "id": "tFzxVGk0lY9h"
   },
   "source": [
    "# импортируем нужные бибилиотеки\n",
    "import pandas as pd\n",
    "import numpy as np"
   ],
   "execution_count": 18,
   "outputs": []
  },
  {
   "cell_type": "code",
   "metadata": {
    "colab": {
     "base_uri": "https://localhost:8080/",
     "height": 223
    },
    "id": "Qr1d2am6lnEJ",
    "executionInfo": {
     "status": "ok",
     "timestamp": 1620320631646,
     "user_tz": -180,
     "elapsed": 1966,
     "user": {
      "displayName": "Александр Кровяков",
      "photoUrl": "",
      "userId": "13044897650393812439"
     }
    },
    "outputId": "12ab595e-15d3-488d-f949-a2db9500ceef"
   },
   "source": [
    "# создаем датафрейм с помощью словаря - номер дня и кол-во удержанных пользователей сайта \n",
    "df = pd.DataFrame({'day': [0,1,7,14,21,30],\n",
    "                   'retained': [100,55,38,26,21,14]})\n",
    "df.head(6)"
   ],
   "execution_count": 19,
   "outputs": [
    {
     "data": {
      "text/plain": "   day  retained\n0    0       100\n1    1        55\n2    7        38\n3   14        26\n4   21        21\n5   30        14",
      "text/html": "<div>\n<style scoped>\n    .dataframe tbody tr th:only-of-type {\n        vertical-align: middle;\n    }\n\n    .dataframe tbody tr th {\n        vertical-align: top;\n    }\n\n    .dataframe thead th {\n        text-align: right;\n    }\n</style>\n<table border=\"1\" class=\"dataframe\">\n  <thead>\n    <tr style=\"text-align: right;\">\n      <th></th>\n      <th>day</th>\n      <th>retained</th>\n    </tr>\n  </thead>\n  <tbody>\n    <tr>\n      <th>0</th>\n      <td>0</td>\n      <td>100</td>\n    </tr>\n    <tr>\n      <th>1</th>\n      <td>1</td>\n      <td>55</td>\n    </tr>\n    <tr>\n      <th>2</th>\n      <td>7</td>\n      <td>38</td>\n    </tr>\n    <tr>\n      <th>3</th>\n      <td>14</td>\n      <td>26</td>\n    </tr>\n    <tr>\n      <th>4</th>\n      <td>21</td>\n      <td>21</td>\n    </tr>\n    <tr>\n      <th>5</th>\n      <td>30</td>\n      <td>14</td>\n    </tr>\n  </tbody>\n</table>\n</div>"
     },
     "execution_count": 19,
     "metadata": {},
     "output_type": "execute_result"
    }
   ]
  },
  {
   "cell_type": "code",
   "metadata": {
    "colab": {
     "base_uri": "https://localhost:8080/",
     "height": 431
    },
    "id": "Um1DjNmaD_w5",
    "executionInfo": {
     "status": "ok",
     "timestamp": 1620320631941,
     "user_tz": -180,
     "elapsed": 2253,
     "user": {
      "displayName": "Александр Кровяков",
      "photoUrl": "",
      "userId": "13044897650393812439"
     }
    },
    "outputId": "d9d0d33c-47dd-4ce5-cde4-4352dda9a153"
   },
   "source": [
    "# определяем тип возможной кривой по диаграмме рассеяния\n",
    "import matplotlib.pyplot as plt\n",
    "#from matplotlib.pyplot import figure\n",
    "plt.figure(num=None, figsize=(8, 6), dpi=80, facecolor='w', edgecolor='k')\n",
    "plt.scatter(df['day'], df['retained'], label=\"Original Data\" )"
   ],
   "execution_count": 20,
   "outputs": [
    {
     "data": {
      "text/plain": "<matplotlib.collections.PathCollection at 0x7f7be544b8e0>"
     },
     "execution_count": 20,
     "metadata": {},
     "output_type": "execute_result"
    },
    {
     "data": {
      "text/plain": "<Figure size 640x480 with 1 Axes>",
      "image/png": "[encoded data removed]"
     },
     "metadata": {},
     "output_type": "display_data"
    }
   ]
  },
  {
   "cell_type": "code",
   "metadata": {
    "id": "qQBVqYfilipZ"
   },
   "source": [
    "# задаем аппроксимирующую логарифмияескую функцию\n",
    "def log_func( x, a, b, c ):\n",
    "    return -a * np.log2( b + x ) + c"
   ],
   "execution_count": 21,
   "outputs": []
  },
  {
   "cell_type": "code",
   "metadata": {
    "id": "5UadwejWlkLm"
   },
   "source": [
    "# задаем аппроксимирующую экспоненциальную функцию\n",
    "def exp_func( x, a, b, c ):\n",
    "    return a * np.exp( -b * x ) + c"
   ],
   "execution_count": 22,
   "outputs": []
  },
  {
   "cell_type": "code",
   "metadata": {
    "colab": {
     "base_uri": "https://localhost:8080/"
    },
    "id": "V4tH8x37l6px",
    "executionInfo": {
     "status": "ok",
     "timestamp": 1620320632264,
     "user_tz": -180,
     "elapsed": 2564,
     "user": {
      "displayName": "Александр Кровяков",
      "photoUrl": "",
      "userId": "13044897650393812439"
     }
    },
    "outputId": "6ba9b3ff-dd65-444d-af6a-4d4e76fc05a6"
   },
   "source": [
    "# подбираем оптимальные параметры логарифмияеской функции\n",
    "from scipy.optimize import curve_fit\n",
    "log_popt, log_pcov = curve_fit(log_func, df['day'], df['retained'])"
   ],
   "execution_count": 23,
   "outputs": [
    {
     "name": "stderr",
     "output_type": "stream",
     "text": [
      "/Users/gleb_ganin/.conda/envs/scientificProject/lib/python3.9/site-packages/pandas/core/arraylike.py:364: RuntimeWarning: invalid value encountered in log2\n",
      "  result = getattr(ufunc, method)(*inputs, **kwargs)\n"
     ]
    }
   ]
  },
  {
   "cell_type": "code",
   "metadata": {
    "id": "bfqe6H7Gl6_c"
   },
   "source": [
    "# подбираем оптимальные параметры экспоненциальной функции\n",
    "exp_popt, exp_pcov = curve_fit(exp_func, df['day'], df['retained'])"
   ],
   "execution_count": 24,
   "outputs": []
  },
  {
   "cell_type": "code",
   "metadata": {
    "id": "R5KpSSwSmR2V"
   },
   "source": [
    "# задаем точку прогноза - сколько удержанных пользователей сайта останется на 90й день\n",
    "projection_endpoint = 90"
   ],
   "execution_count": 25,
   "outputs": []
  },
  {
   "cell_type": "code",
   "metadata": {
    "id": "-DiuONrVlvOz"
   },
   "source": [
    "# задаем значения функции x с помощью метода np.arange и параметры подобранной кривой\n",
    "log_y_projected = log_func( np.arange( projection_endpoint ), *log_popt )\n",
    "exp_y_projected = exp_func( np.arange( projection_endpoint ), *exp_popt )"
   ],
   "execution_count": 26,
   "outputs": []
  },
  {
   "cell_type": "code",
   "metadata": {
    "colab": {
     "base_uri": "https://localhost:8080/",
     "height": 413
    },
    "id": "9fndXOLUlvcm",
    "executionInfo": {
     "status": "ok",
     "timestamp": 1620320633280,
     "user_tz": -180,
     "elapsed": 3561,
     "user": {
      "displayName": "Александр Кровяков",
      "photoUrl": "",
      "userId": "13044897650393812439"
     }
    },
    "outputId": "4768e1ef-4488-4837-b515-7c09c6ef6e45"
   },
   "source": [
    "# смотрим график исходных данных и полученных кривых\n",
    "import matplotlib.pyplot as plt\n",
    "from matplotlib.pyplot import figure\n",
    "plt.figure(num=None, figsize=(8, 6), dpi=80, facecolor='w', edgecolor='k')\n",
    "plt.scatter(df['day'], df['retained'], label=\"Original Data\" )\n",
    "plt.plot( log_y_projected, label=\"Log Function Projections\" )\n",
    "plt.plot( exp_y_projected, label=\"Exp Function Projections\" )\n",
    "plt.legend()\n",
    "plt.show()"
   ],
   "execution_count": 27,
   "outputs": [
    {
     "data": {
      "text/plain": "<Figure size 640x480 with 1 Axes>",
      "image/png": "[encoded data removed]"
     },
     "metadata": {},
     "output_type": "display_data"
    }
   ]
  },
  {
   "cell_type": "code",
   "metadata": {
    "colab": {
     "base_uri": "https://localhost:8080/"
    },
    "id": "MWwKhV0rnjIJ",
    "executionInfo": {
     "status": "ok",
     "timestamp": 1620320633281,
     "user_tz": -180,
     "elapsed": 3553,
     "user": {
      "displayName": "Александр Кровяков",
      "photoUrl": "",
      "userId": "13044897650393812439"
     }
    },
    "outputId": "45eb79c8-eebf-4260-f8a0-b0a45c313a64"
   },
   "source": [
    "# делаем прогноз удержанных пользователей сайта на 90й день\n",
    "print('Прогноз кол-ва пользователей через 90 дней по log модели', round(log_y_projected[89],0))\n",
    "print('Прогноз кол-ва пользователей через 90 дней по exp модели', round(exp_y_projected[89],0))"
   ],
   "execution_count": 28,
   "outputs": [
    {
     "name": "stdout",
     "output_type": "stream",
     "text": [
      "Прогноз кол-ва пользователей через 90 дней по log модели 4.0\n",
      "Прогноз кол-ва пользователей через 90 дней по exp модели 25.0\n"
     ]
    }
   ]
  },
  {
   "cell_type": "code",
   "metadata": {
    "colab": {
     "base_uri": "https://localhost:8080/"
    },
    "id": "WreDYaGjpaXJ",
    "executionInfo": {
     "status": "ok",
     "timestamp": 1620320633282,
     "user_tz": -180,
     "elapsed": 3549,
     "user": {
      "displayName": "Александр Кровяков",
      "photoUrl": "",
      "userId": "13044897650393812439"
     }
    },
    "outputId": "406cc5a2-6e82-4a32-97a5-f76b668cff92"
   },
   "source": [
    "# отбираем среди прогнозов значения за 0,1,7,14,21 и 30 дни\n",
    "y_log_pred = [log_y_projected[ i ] for i in list(df['day'])]\n",
    "y_log_pred"
   ],
   "execution_count": 29,
   "outputs": [
    {
     "data": {
      "text/plain": "[99.96285584693737,\n 56.900299939684935,\n 33.95173162783922,\n 25.700959415561613,\n 20.868613292419482,\n 16.61553987790169]"
     },
     "execution_count": 29,
     "metadata": {},
     "output_type": "execute_result"
    }
   ]
  },
  {
   "cell_type": "code",
   "metadata": {
    "colab": {
     "base_uri": "https://localhost:8080/"
    },
    "id": "YHQhGJqmqpkT",
    "executionInfo": {
     "status": "ok",
     "timestamp": 1620320633282,
     "user_tz": -180,
     "elapsed": 3543,
     "user": {
      "displayName": "Александр Кровяков",
      "photoUrl": "",
      "userId": "13044897650393812439"
     }
    },
    "outputId": "081da1a0-90f4-42fa-c3ce-2293ead3aaf3"
   },
   "source": [
    "# отбираем среди прогнозов значения за 0,1,7,14,21 и 30 дни\n",
    "y_exp_pred = [exp_y_projected[ i ] for i in list(df['day'])]\n",
    "y_exp_pred"
   ],
   "execution_count": 30,
   "outputs": [
    {
     "data": {
      "text/plain": "[99.84695355623178,\n 55.43605252004692,\n 24.78801944514217,\n 24.64317800547473,\n 24.642898504534656,\n 24.642897964312926]"
     },
     "execution_count": 30,
     "metadata": {},
     "output_type": "execute_result"
    }
   ]
  },
  {
   "cell_type": "markdown",
   "metadata": {
    "id": "S1pAIIy3n5n1"
   },
   "source": [
    "Вывод: логарифмическая функция аппроксимирует исследуемую зависимость с меньшей среднеквадратической ошибкой, поэтому целесообразнее использовать для прогноза только данную функцию."
   ]
  }
 ]
}