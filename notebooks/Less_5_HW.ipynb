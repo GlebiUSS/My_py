{
 "cells": [
  {
   "cell_type": "code",
   "source": [
    "\n"
   ],
   "metadata": {
    "collapsed": false,
    "pycharm": {
     "name": "#%%\n"
    }
   },
   "execution_count": null,
   "outputs": []
  },
  {
   "cell_type": "code",
   "execution_count": 15,
   "metadata": {
    "collapsed": true
   },
   "outputs": [],
   "source": [
    "import os\n",
    "os.chdir('/Users/gleb_ganin/PycharmProjects/scientificProject/')"
   ]
  },
  {
   "cell_type": "code",
   "execution_count": 16,
   "outputs": [
    {
     "data": {
      "text/plain": "  user_id    age_group language_preferred\n0   a1000   0-18 years            English\n1   a1001  19-24 years            English\n2   a1002  24-30 years            English\n3   a1003  30-36 years            English\n4   a1004  36-45 years            English",
      "text/html": "<div>\n<style scoped>\n    .dataframe tbody tr th:only-of-type {\n        vertical-align: middle;\n    }\n\n    .dataframe tbody tr th {\n        vertical-align: top;\n    }\n\n    .dataframe thead th {\n        text-align: right;\n    }\n</style>\n<table border=\"1\" class=\"dataframe\">\n  <thead>\n    <tr style=\"text-align: right;\">\n      <th></th>\n      <th>user_id</th>\n      <th>age_group</th>\n      <th>language_preferred</th>\n    </tr>\n  </thead>\n  <tbody>\n    <tr>\n      <th>0</th>\n      <td>a1000</td>\n      <td>0-18 years</td>\n      <td>English</td>\n    </tr>\n    <tr>\n      <th>1</th>\n      <td>a1001</td>\n      <td>19-24 years</td>\n      <td>English</td>\n    </tr>\n    <tr>\n      <th>2</th>\n      <td>a1002</td>\n      <td>24-30 years</td>\n      <td>English</td>\n    </tr>\n    <tr>\n      <th>3</th>\n      <td>a1003</td>\n      <td>30-36 years</td>\n      <td>English</td>\n    </tr>\n    <tr>\n      <th>4</th>\n      <td>a1004</td>\n      <td>36-45 years</td>\n      <td>English</td>\n    </tr>\n  </tbody>\n</table>\n</div>"
     },
     "execution_count": 16,
     "metadata": {},
     "output_type": "execute_result"
    }
   ],
   "source": [
    "import pandas as pd\n",
    "users_table = pd.read_csv('data/Less_2_Data_set/users.csv')\n",
    "users_table.head()\n"
   ],
   "metadata": {
    "collapsed": false,
    "pycharm": {
     "name": "#%%\n"
    }
   }
  },
  {
   "cell_type": "code",
   "execution_count": 17,
   "outputs": [
    {
     "data": {
      "text/plain": "  user_id subscribing_channel date_subscribed date_canceled is_retained\n0   a1000           House Ads          1/1/18           NaN        True\n1   a1001           House Ads          1/1/18           NaN        True\n2   a1002           House Ads          1/1/18           NaN        True\n3   a1003           House Ads          1/1/18           NaN        True\n4   a1004           House Ads          1/1/18           NaN        True",
      "text/html": "<div>\n<style scoped>\n    .dataframe tbody tr th:only-of-type {\n        vertical-align: middle;\n    }\n\n    .dataframe tbody tr th {\n        vertical-align: top;\n    }\n\n    .dataframe thead th {\n        text-align: right;\n    }\n</style>\n<table border=\"1\" class=\"dataframe\">\n  <thead>\n    <tr style=\"text-align: right;\">\n      <th></th>\n      <th>user_id</th>\n      <th>subscribing_channel</th>\n      <th>date_subscribed</th>\n      <th>date_canceled</th>\n      <th>is_retained</th>\n    </tr>\n  </thead>\n  <tbody>\n    <tr>\n      <th>0</th>\n      <td>a1000</td>\n      <td>House Ads</td>\n      <td>1/1/18</td>\n      <td>NaN</td>\n      <td>True</td>\n    </tr>\n    <tr>\n      <th>1</th>\n      <td>a1001</td>\n      <td>House Ads</td>\n      <td>1/1/18</td>\n      <td>NaN</td>\n      <td>True</td>\n    </tr>\n    <tr>\n      <th>2</th>\n      <td>a1002</td>\n      <td>House Ads</td>\n      <td>1/1/18</td>\n      <td>NaN</td>\n      <td>True</td>\n    </tr>\n    <tr>\n      <th>3</th>\n      <td>a1003</td>\n      <td>House Ads</td>\n      <td>1/1/18</td>\n      <td>NaN</td>\n      <td>True</td>\n    </tr>\n    <tr>\n      <th>4</th>\n      <td>a1004</td>\n      <td>House Ads</td>\n      <td>1/1/18</td>\n      <td>NaN</td>\n      <td>True</td>\n    </tr>\n  </tbody>\n</table>\n</div>"
     },
     "execution_count": 17,
     "metadata": {},
     "output_type": "execute_result"
    }
   ],
   "source": [
    "subscribers_table = pd.read_csv('data/Less_2_Data_set/subscribers.csv')\n",
    "subscribers_table.head()"
   ],
   "metadata": {
    "collapsed": false,
    "pycharm": {
     "name": "#%%\n"
    }
   }
  },
  {
   "cell_type": "code",
   "execution_count": 18,
   "outputs": [
    {
     "data": {
      "text/plain": "  user_id date_served marketing_channel          variant language_displayed  \\\n0   a1000      1/1/18         House Ads  personalization            English   \n1   a1001      1/1/18         House Ads  personalization            English   \n2   a1002      1/1/18         House Ads  personalization            English   \n3   a1003      1/1/18         House Ads  personalization            English   \n4   a1004      1/1/18         House Ads  personalization            English   \n\n  converted  \n0      True  \n1      True  \n2      True  \n3      True  \n4      True  ",
      "text/html": "<div>\n<style scoped>\n    .dataframe tbody tr th:only-of-type {\n        vertical-align: middle;\n    }\n\n    .dataframe tbody tr th {\n        vertical-align: top;\n    }\n\n    .dataframe thead th {\n        text-align: right;\n    }\n</style>\n<table border=\"1\" class=\"dataframe\">\n  <thead>\n    <tr style=\"text-align: right;\">\n      <th></th>\n      <th>user_id</th>\n      <th>date_served</th>\n      <th>marketing_channel</th>\n      <th>variant</th>\n      <th>language_displayed</th>\n      <th>converted</th>\n    </tr>\n  </thead>\n  <tbody>\n    <tr>\n      <th>0</th>\n      <td>a1000</td>\n      <td>1/1/18</td>\n      <td>House Ads</td>\n      <td>personalization</td>\n      <td>English</td>\n      <td>True</td>\n    </tr>\n    <tr>\n      <th>1</th>\n      <td>a1001</td>\n      <td>1/1/18</td>\n      <td>House Ads</td>\n      <td>personalization</td>\n      <td>English</td>\n      <td>True</td>\n    </tr>\n    <tr>\n      <th>2</th>\n      <td>a1002</td>\n      <td>1/1/18</td>\n      <td>House Ads</td>\n      <td>personalization</td>\n      <td>English</td>\n      <td>True</td>\n    </tr>\n    <tr>\n      <th>3</th>\n      <td>a1003</td>\n      <td>1/1/18</td>\n      <td>House Ads</td>\n      <td>personalization</td>\n      <td>English</td>\n      <td>True</td>\n    </tr>\n    <tr>\n      <th>4</th>\n      <td>a1004</td>\n      <td>1/1/18</td>\n      <td>House Ads</td>\n      <td>personalization</td>\n      <td>English</td>\n      <td>True</td>\n    </tr>\n  </tbody>\n</table>\n</div>"
     },
     "execution_count": 18,
     "metadata": {},
     "output_type": "execute_result"
    }
   ],
   "source": [
    "marketing_campaing_table = pd.read_csv('data/Less_2_Data_set/marketing_campaign.csv')\n",
    "marketing_campaing_table.head()"
   ],
   "metadata": {
    "collapsed": false,
    "pycharm": {
     "name": "#%%\n"
    }
   }
  },
  {
   "cell_type": "code",
   "execution_count": 19,
   "outputs": [
    {
     "name": "stdout",
     "output_type": "stream",
     "text": [
      "<class 'pandas.core.frame.DataFrame'>\n",
      "Int64Index: 10037 entries, 0 to 10036\n",
      "Data columns (total 12 columns):\n",
      " #   Column               Non-Null Count  Dtype \n",
      "---  ------               --------------  ----- \n",
      " 0   user_id              10037 non-null  object\n",
      " 1   age_group            10037 non-null  object\n",
      " 2   language_preferred   10037 non-null  object\n",
      " 3   subscribing_channel  1856 non-null   object\n",
      " 4   date_subscribed      1856 non-null   object\n",
      " 5   date_canceled        577 non-null    object\n",
      " 6   is_retained          1856 non-null   object\n",
      " 7   date_served          10021 non-null  object\n",
      " 8   marketing_channel    10022 non-null  object\n",
      " 9   variant              10037 non-null  object\n",
      " 10  language_displayed   10037 non-null  object\n",
      " 11  converted            10022 non-null  object\n",
      "dtypes: object(12)\n",
      "memory usage: 1019.4+ KB\n"
     ]
    }
   ],
   "source": [
    "df = pd.merge(users_table,subscribers_table, on = 'user_id', how = 'left')\n",
    "df = pd.merge(df,marketing_campaing_table, on = 'user_id', how = 'left')\n",
    "\n",
    "#Выведем информацию о датасете\n",
    "df.info()"
   ],
   "metadata": {
    "collapsed": false,
    "pycharm": {
     "name": "#%%\n"
    }
   }
  },
  {
   "cell_type": "code",
   "execution_count": null,
   "outputs": [],
   "source": [],
   "metadata": {
    "collapsed": false,
    "pycharm": {
     "name": "#%%\n"
    }
   }
  }
 ],
 "metadata": {
  "kernelspec": {
   "display_name": "Python 3",
   "language": "python",
   "name": "python3"
  },
  "language_info": {
   "codemirror_mode": {
    "name": "ipython",
    "version": 2
   },
   "file_extension": ".py",
   "mimetype": "text/x-python",
   "name": "python",
   "nbconvert_exporter": "python",
   "pygments_lexer": "ipython2",
   "version": "2.7.6"
  }
 },
 "nbformat": 4,
 "nbformat_minor": 0
}