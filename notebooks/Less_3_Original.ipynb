{
 "nbformat": 4,
 "nbformat_minor": 0,
 "metadata": {
  "colab": {
   "name": "Копия блокнота \"Урок 3. Python. Работа с библиотекой Pandas. Часть 2.ipynb\"",
   "provenance": []
  },
  "kernelspec": {
   "name": "python3",
   "display_name": "Python 3"
  }
 },
 "cells": [
  {
   "cell_type": "markdown",
   "metadata": {
    "id": "jEAkHIqw0fpV"
   },
   "source": [
    "Исходник датасета: https://www.kaggle.com/aerodinamicc/ecommerce-website-funnel-analysis\n"
   ]
  },
  {
   "cell_type": "code",
   "metadata": {
    "id": "hnxj-i19OvgQ"
   },
   "source": [
    "# Загружаем файлы c датасетами в Google Colab"
   ],
   "execution_count": 1,
   "outputs": []
  },
  {
   "cell_type": "code",
   "metadata": {
    "id": "-WJJ3GIhSI5L"
   },
   "source": [
    "# Импортируем нужные бибилиотеки\n",
    "import pandas as pd"
   ],
   "execution_count": 2,
   "outputs": []
  },
  {
   "cell_type": "code",
   "metadata": {
    "id": "flVuJZAbRyqn",
    "colab": {
     "base_uri": "https://localhost:8080/",
     "height": 195
    },
    "outputId": "c134fdb9-cddc-4912-82d0-5955d392228a"
   },
   "source": [
    "# Загружаем в Python с помощью Pandas все датасеты\n",
    "user_table = pd.read_csv('data/Less_3_Data_set/user_table.csv')\n",
    "\n",
    "# Просматриваем первые 5 строк датасета\n",
    "user_table.head()"
   ],
   "execution_count": 4,
   "outputs": [
    {
     "ename": "FileNotFoundError",
     "evalue": "[Errno 2] No such file or directory: 'data/Less_3_Data_set/user_table.csv'",
     "output_type": "error",
     "traceback": [
      "\u001B[0;31m---------------------------------------------------------------------------\u001B[0m",
      "\u001B[0;31mFileNotFoundError\u001B[0m                         Traceback (most recent call last)",
      "\u001B[0;32m/var/folders/h5/l1drg8ds0h701rb3ylsdvp5m0000gn/T/ipykernel_2465/1863522179.py\u001B[0m in \u001B[0;36m<module>\u001B[0;34m\u001B[0m\n\u001B[1;32m      1\u001B[0m \u001B[0;31m# Загружаем в Python с помощью Pandas все датасеты\u001B[0m\u001B[0;34m\u001B[0m\u001B[0;34m\u001B[0m\u001B[0m\n\u001B[0;32m----> 2\u001B[0;31m \u001B[0muser_table\u001B[0m \u001B[0;34m=\u001B[0m \u001B[0mpd\u001B[0m\u001B[0;34m.\u001B[0m\u001B[0mread_csv\u001B[0m\u001B[0;34m(\u001B[0m\u001B[0;34m'data/Less_3_Data_set/user_table.csv'\u001B[0m\u001B[0;34m)\u001B[0m\u001B[0;34m\u001B[0m\u001B[0;34m\u001B[0m\u001B[0m\n\u001B[0m\u001B[1;32m      3\u001B[0m \u001B[0;34m\u001B[0m\u001B[0m\n\u001B[1;32m      4\u001B[0m \u001B[0;31m# Просматриваем первые 5 строк датасета\u001B[0m\u001B[0;34m\u001B[0m\u001B[0;34m\u001B[0m\u001B[0m\n\u001B[1;32m      5\u001B[0m \u001B[0muser_table\u001B[0m\u001B[0;34m.\u001B[0m\u001B[0mhead\u001B[0m\u001B[0;34m(\u001B[0m\u001B[0;34m)\u001B[0m\u001B[0;34m\u001B[0m\u001B[0;34m\u001B[0m\u001B[0m\n",
      "\u001B[0;32m~/.conda/envs/scientificProject/lib/python3.9/site-packages/pandas/util/_decorators.py\u001B[0m in \u001B[0;36mwrapper\u001B[0;34m(*args, **kwargs)\u001B[0m\n\u001B[1;32m    309\u001B[0m                     \u001B[0mstacklevel\u001B[0m\u001B[0;34m=\u001B[0m\u001B[0mstacklevel\u001B[0m\u001B[0;34m,\u001B[0m\u001B[0;34m\u001B[0m\u001B[0;34m\u001B[0m\u001B[0m\n\u001B[1;32m    310\u001B[0m                 )\n\u001B[0;32m--> 311\u001B[0;31m             \u001B[0;32mreturn\u001B[0m \u001B[0mfunc\u001B[0m\u001B[0;34m(\u001B[0m\u001B[0;34m*\u001B[0m\u001B[0margs\u001B[0m\u001B[0;34m,\u001B[0m \u001B[0;34m**\u001B[0m\u001B[0mkwargs\u001B[0m\u001B[0;34m)\u001B[0m\u001B[0;34m\u001B[0m\u001B[0;34m\u001B[0m\u001B[0m\n\u001B[0m\u001B[1;32m    312\u001B[0m \u001B[0;34m\u001B[0m\u001B[0m\n\u001B[1;32m    313\u001B[0m         \u001B[0;32mreturn\u001B[0m \u001B[0mwrapper\u001B[0m\u001B[0;34m\u001B[0m\u001B[0;34m\u001B[0m\u001B[0m\n",
      "\u001B[0;32m~/.conda/envs/scientificProject/lib/python3.9/site-packages/pandas/io/parsers/readers.py\u001B[0m in \u001B[0;36mread_csv\u001B[0;34m(filepath_or_buffer, sep, delimiter, header, names, index_col, usecols, squeeze, prefix, mangle_dupe_cols, dtype, engine, converters, true_values, false_values, skipinitialspace, skiprows, skipfooter, nrows, na_values, keep_default_na, na_filter, verbose, skip_blank_lines, parse_dates, infer_datetime_format, keep_date_col, date_parser, dayfirst, cache_dates, iterator, chunksize, compression, thousands, decimal, lineterminator, quotechar, quoting, doublequote, escapechar, comment, encoding, encoding_errors, dialect, error_bad_lines, warn_bad_lines, on_bad_lines, delim_whitespace, low_memory, memory_map, float_precision, storage_options)\u001B[0m\n\u001B[1;32m    584\u001B[0m     \u001B[0mkwds\u001B[0m\u001B[0;34m.\u001B[0m\u001B[0mupdate\u001B[0m\u001B[0;34m(\u001B[0m\u001B[0mkwds_defaults\u001B[0m\u001B[0;34m)\u001B[0m\u001B[0;34m\u001B[0m\u001B[0;34m\u001B[0m\u001B[0m\n\u001B[1;32m    585\u001B[0m \u001B[0;34m\u001B[0m\u001B[0m\n\u001B[0;32m--> 586\u001B[0;31m     \u001B[0;32mreturn\u001B[0m \u001B[0m_read\u001B[0m\u001B[0;34m(\u001B[0m\u001B[0mfilepath_or_buffer\u001B[0m\u001B[0;34m,\u001B[0m \u001B[0mkwds\u001B[0m\u001B[0;34m)\u001B[0m\u001B[0;34m\u001B[0m\u001B[0;34m\u001B[0m\u001B[0m\n\u001B[0m\u001B[1;32m    587\u001B[0m \u001B[0;34m\u001B[0m\u001B[0m\n\u001B[1;32m    588\u001B[0m \u001B[0;34m\u001B[0m\u001B[0m\n",
      "\u001B[0;32m~/.conda/envs/scientificProject/lib/python3.9/site-packages/pandas/io/parsers/readers.py\u001B[0m in \u001B[0;36m_read\u001B[0;34m(filepath_or_buffer, kwds)\u001B[0m\n\u001B[1;32m    480\u001B[0m \u001B[0;34m\u001B[0m\u001B[0m\n\u001B[1;32m    481\u001B[0m     \u001B[0;31m# Create the parser.\u001B[0m\u001B[0;34m\u001B[0m\u001B[0;34m\u001B[0m\u001B[0m\n\u001B[0;32m--> 482\u001B[0;31m     \u001B[0mparser\u001B[0m \u001B[0;34m=\u001B[0m \u001B[0mTextFileReader\u001B[0m\u001B[0;34m(\u001B[0m\u001B[0mfilepath_or_buffer\u001B[0m\u001B[0;34m,\u001B[0m \u001B[0;34m**\u001B[0m\u001B[0mkwds\u001B[0m\u001B[0;34m)\u001B[0m\u001B[0;34m\u001B[0m\u001B[0;34m\u001B[0m\u001B[0m\n\u001B[0m\u001B[1;32m    483\u001B[0m \u001B[0;34m\u001B[0m\u001B[0m\n\u001B[1;32m    484\u001B[0m     \u001B[0;32mif\u001B[0m \u001B[0mchunksize\u001B[0m \u001B[0;32mor\u001B[0m \u001B[0miterator\u001B[0m\u001B[0;34m:\u001B[0m\u001B[0;34m\u001B[0m\u001B[0;34m\u001B[0m\u001B[0m\n",
      "\u001B[0;32m~/.conda/envs/scientificProject/lib/python3.9/site-packages/pandas/io/parsers/readers.py\u001B[0m in \u001B[0;36m__init__\u001B[0;34m(self, f, engine, **kwds)\u001B[0m\n\u001B[1;32m    809\u001B[0m             \u001B[0mself\u001B[0m\u001B[0;34m.\u001B[0m\u001B[0moptions\u001B[0m\u001B[0;34m[\u001B[0m\u001B[0;34m\"has_index_names\"\u001B[0m\u001B[0;34m]\u001B[0m \u001B[0;34m=\u001B[0m \u001B[0mkwds\u001B[0m\u001B[0;34m[\u001B[0m\u001B[0;34m\"has_index_names\"\u001B[0m\u001B[0;34m]\u001B[0m\u001B[0;34m\u001B[0m\u001B[0;34m\u001B[0m\u001B[0m\n\u001B[1;32m    810\u001B[0m \u001B[0;34m\u001B[0m\u001B[0m\n\u001B[0;32m--> 811\u001B[0;31m         \u001B[0mself\u001B[0m\u001B[0;34m.\u001B[0m\u001B[0m_engine\u001B[0m \u001B[0;34m=\u001B[0m \u001B[0mself\u001B[0m\u001B[0;34m.\u001B[0m\u001B[0m_make_engine\u001B[0m\u001B[0;34m(\u001B[0m\u001B[0mself\u001B[0m\u001B[0;34m.\u001B[0m\u001B[0mengine\u001B[0m\u001B[0;34m)\u001B[0m\u001B[0;34m\u001B[0m\u001B[0;34m\u001B[0m\u001B[0m\n\u001B[0m\u001B[1;32m    812\u001B[0m \u001B[0;34m\u001B[0m\u001B[0m\n\u001B[1;32m    813\u001B[0m     \u001B[0;32mdef\u001B[0m \u001B[0mclose\u001B[0m\u001B[0;34m(\u001B[0m\u001B[0mself\u001B[0m\u001B[0;34m)\u001B[0m\u001B[0;34m:\u001B[0m\u001B[0;34m\u001B[0m\u001B[0;34m\u001B[0m\u001B[0m\n",
      "\u001B[0;32m~/.conda/envs/scientificProject/lib/python3.9/site-packages/pandas/io/parsers/readers.py\u001B[0m in \u001B[0;36m_make_engine\u001B[0;34m(self, engine)\u001B[0m\n\u001B[1;32m   1038\u001B[0m             )\n\u001B[1;32m   1039\u001B[0m         \u001B[0;31m# error: Too many arguments for \"ParserBase\"\u001B[0m\u001B[0;34m\u001B[0m\u001B[0;34m\u001B[0m\u001B[0m\n\u001B[0;32m-> 1040\u001B[0;31m         \u001B[0;32mreturn\u001B[0m \u001B[0mmapping\u001B[0m\u001B[0;34m[\u001B[0m\u001B[0mengine\u001B[0m\u001B[0;34m]\u001B[0m\u001B[0;34m(\u001B[0m\u001B[0mself\u001B[0m\u001B[0;34m.\u001B[0m\u001B[0mf\u001B[0m\u001B[0;34m,\u001B[0m \u001B[0;34m**\u001B[0m\u001B[0mself\u001B[0m\u001B[0;34m.\u001B[0m\u001B[0moptions\u001B[0m\u001B[0;34m)\u001B[0m  \u001B[0;31m# type: ignore[call-arg]\u001B[0m\u001B[0;34m\u001B[0m\u001B[0;34m\u001B[0m\u001B[0m\n\u001B[0m\u001B[1;32m   1041\u001B[0m \u001B[0;34m\u001B[0m\u001B[0m\n\u001B[1;32m   1042\u001B[0m     \u001B[0;32mdef\u001B[0m \u001B[0m_failover_to_python\u001B[0m\u001B[0;34m(\u001B[0m\u001B[0mself\u001B[0m\u001B[0;34m)\u001B[0m\u001B[0;34m:\u001B[0m\u001B[0;34m\u001B[0m\u001B[0;34m\u001B[0m\u001B[0m\n",
      "\u001B[0;32m~/.conda/envs/scientificProject/lib/python3.9/site-packages/pandas/io/parsers/c_parser_wrapper.py\u001B[0m in \u001B[0;36m__init__\u001B[0;34m(self, src, **kwds)\u001B[0m\n\u001B[1;32m     49\u001B[0m \u001B[0;34m\u001B[0m\u001B[0m\n\u001B[1;32m     50\u001B[0m         \u001B[0;31m# open handles\u001B[0m\u001B[0;34m\u001B[0m\u001B[0;34m\u001B[0m\u001B[0m\n\u001B[0;32m---> 51\u001B[0;31m         \u001B[0mself\u001B[0m\u001B[0;34m.\u001B[0m\u001B[0m_open_handles\u001B[0m\u001B[0;34m(\u001B[0m\u001B[0msrc\u001B[0m\u001B[0;34m,\u001B[0m \u001B[0mkwds\u001B[0m\u001B[0;34m)\u001B[0m\u001B[0;34m\u001B[0m\u001B[0;34m\u001B[0m\u001B[0m\n\u001B[0m\u001B[1;32m     52\u001B[0m         \u001B[0;32massert\u001B[0m \u001B[0mself\u001B[0m\u001B[0;34m.\u001B[0m\u001B[0mhandles\u001B[0m \u001B[0;32mis\u001B[0m \u001B[0;32mnot\u001B[0m \u001B[0;32mNone\u001B[0m\u001B[0;34m\u001B[0m\u001B[0;34m\u001B[0m\u001B[0m\n\u001B[1;32m     53\u001B[0m \u001B[0;34m\u001B[0m\u001B[0m\n",
      "\u001B[0;32m~/.conda/envs/scientificProject/lib/python3.9/site-packages/pandas/io/parsers/base_parser.py\u001B[0m in \u001B[0;36m_open_handles\u001B[0;34m(self, src, kwds)\u001B[0m\n\u001B[1;32m    220\u001B[0m         \u001B[0mLet\u001B[0m \u001B[0mthe\u001B[0m \u001B[0mreaders\u001B[0m \u001B[0mopen\u001B[0m \u001B[0mIOHandles\u001B[0m \u001B[0mafter\u001B[0m \u001B[0mthey\u001B[0m \u001B[0mare\u001B[0m \u001B[0mdone\u001B[0m \u001B[0;32mwith\u001B[0m \u001B[0mtheir\u001B[0m \u001B[0mpotential\u001B[0m \u001B[0mraises\u001B[0m\u001B[0;34m.\u001B[0m\u001B[0;34m\u001B[0m\u001B[0;34m\u001B[0m\u001B[0m\n\u001B[1;32m    221\u001B[0m         \"\"\"\n\u001B[0;32m--> 222\u001B[0;31m         self.handles = get_handle(\n\u001B[0m\u001B[1;32m    223\u001B[0m             \u001B[0msrc\u001B[0m\u001B[0;34m,\u001B[0m\u001B[0;34m\u001B[0m\u001B[0;34m\u001B[0m\u001B[0m\n\u001B[1;32m    224\u001B[0m             \u001B[0;34m\"r\"\u001B[0m\u001B[0;34m,\u001B[0m\u001B[0;34m\u001B[0m\u001B[0;34m\u001B[0m\u001B[0m\n",
      "\u001B[0;32m~/.conda/envs/scientificProject/lib/python3.9/site-packages/pandas/io/common.py\u001B[0m in \u001B[0;36mget_handle\u001B[0;34m(path_or_buf, mode, encoding, compression, memory_map, is_text, errors, storage_options)\u001B[0m\n\u001B[1;32m    700\u001B[0m         \u001B[0;32mif\u001B[0m \u001B[0mioargs\u001B[0m\u001B[0;34m.\u001B[0m\u001B[0mencoding\u001B[0m \u001B[0;32mand\u001B[0m \u001B[0;34m\"b\"\u001B[0m \u001B[0;32mnot\u001B[0m \u001B[0;32min\u001B[0m \u001B[0mioargs\u001B[0m\u001B[0;34m.\u001B[0m\u001B[0mmode\u001B[0m\u001B[0;34m:\u001B[0m\u001B[0;34m\u001B[0m\u001B[0;34m\u001B[0m\u001B[0m\n\u001B[1;32m    701\u001B[0m             \u001B[0;31m# Encoding\u001B[0m\u001B[0;34m\u001B[0m\u001B[0;34m\u001B[0m\u001B[0m\n\u001B[0;32m--> 702\u001B[0;31m             handle = open(\n\u001B[0m\u001B[1;32m    703\u001B[0m                 \u001B[0mhandle\u001B[0m\u001B[0;34m,\u001B[0m\u001B[0;34m\u001B[0m\u001B[0;34m\u001B[0m\u001B[0m\n\u001B[1;32m    704\u001B[0m                 \u001B[0mioargs\u001B[0m\u001B[0;34m.\u001B[0m\u001B[0mmode\u001B[0m\u001B[0;34m,\u001B[0m\u001B[0;34m\u001B[0m\u001B[0;34m\u001B[0m\u001B[0m\n",
      "\u001B[0;31mFileNotFoundError\u001B[0m: [Errno 2] No such file or directory: 'data/Less_3_Data_set/user_table.csv'"
     ]
    }
   ]
  },
  {
   "cell_type": "code",
   "metadata": {
    "id": "uX4BO7K9Swfg",
    "colab": {
     "base_uri": "https://localhost:8080/"
    },
    "outputId": "dee65e45-054e-4cc2-c6a7-0961fd64a38d"
   },
   "source": [
    "# Просматриваем кол-во строк и столбцов каждого датасета\n",
    "user_table.shape"
   ],
   "execution_count": null,
   "outputs": []
  },
  {
   "cell_type": "code",
   "metadata": {
    "id": "8oZpMRrLSHmP",
    "colab": {
     "base_uri": "https://localhost:8080/",
     "height": 195
    },
    "outputId": "8098fdaf-97fe-40a0-bbb8-3599e4bd9dd9"
   },
   "source": [
    "home_page = pd.read_csv('home_page_table.csv')\n",
    "home_page.head()"
   ],
   "execution_count": null,
   "outputs": []
  },
  {
   "cell_type": "code",
   "metadata": {
    "id": "K1DJvp1-S1An",
    "colab": {
     "base_uri": "https://localhost:8080/"
    },
    "outputId": "8d7286b6-733d-472b-d26a-96ee1ed39fdc"
   },
   "source": [
    "home_page.shape"
   ],
   "execution_count": null,
   "outputs": []
  },
  {
   "cell_type": "code",
   "metadata": {
    "colab": {
     "base_uri": "https://localhost:8080/"
    },
    "id": "bs2wbjD9HcMH",
    "outputId": "0ffba81f-7193-40a1-b42e-9aff5be41d9e"
   },
   "source": [
    "sum(home_page.duplicated())"
   ],
   "execution_count": null,
   "outputs": []
  },
  {
   "cell_type": "code",
   "metadata": {
    "id": "sRxBlsxOSYFU",
    "colab": {
     "base_uri": "https://localhost:8080/",
     "height": 195
    },
    "outputId": "17366fe3-ac9b-454f-bc66-a65c09c75a82"
   },
   "source": [
    "search_page = pd.read_csv('search_page_table.csv')\n",
    "search_page.head()"
   ],
   "execution_count": null,
   "outputs": []
  },
  {
   "cell_type": "code",
   "metadata": {
    "id": "ZLaSZJsmSpBs",
    "colab": {
     "base_uri": "https://localhost:8080/"
    },
    "outputId": "2fe7ff8b-6b4b-4755-9f40-d6fc4ea6ec9b"
   },
   "source": [
    "search_page.shape"
   ],
   "execution_count": null,
   "outputs": []
  },
  {
   "cell_type": "code",
   "metadata": {
    "id": "9uskrM35S6OZ",
    "colab": {
     "base_uri": "https://localhost:8080/",
     "height": 195
    },
    "outputId": "868692f6-509f-4f19-fae1-477463281956"
   },
   "source": [
    "payment_page = pd.read_csv('payment_page_table.csv')\n",
    "payment_page.head()"
   ],
   "execution_count": null,
   "outputs": []
  },
  {
   "cell_type": "code",
   "metadata": {
    "id": "km1yhL8xTJGH",
    "colab": {
     "base_uri": "https://localhost:8080/"
    },
    "outputId": "58625a18-67d4-4ed5-e9e5-c766580bdc96"
   },
   "source": [
    "payment_page.shape"
   ],
   "execution_count": null,
   "outputs": []
  },
  {
   "cell_type": "code",
   "metadata": {
    "id": "CyoPpd5NUOjI",
    "colab": {
     "base_uri": "https://localhost:8080/",
     "height": 195
    },
    "outputId": "b325364e-ee0f-4544-afb3-cc673916f094"
   },
   "source": [
    "payment_confirmation = pd.read_csv('payment_confirmation_table.csv')\n",
    "payment_confirmation.head()"
   ],
   "execution_count": null,
   "outputs": []
  },
  {
   "cell_type": "code",
   "metadata": {
    "id": "xmNf6T82UZ_0",
    "colab": {
     "base_uri": "https://localhost:8080/"
    },
    "outputId": "d6433b52-7154-47c1-c765-8d06bdc5b451"
   },
   "source": [
    "payment_confirmation.shape"
   ],
   "execution_count": null,
   "outputs": []
  },
  {
   "cell_type": "code",
   "metadata": {
    "id": "4KkMkr12ncd0"
   },
   "source": [
    "# Меняем название одинаковой колонки в каждом датасете\n",
    "home_page = home_page.rename(columns = {'page':'home_page'})\n",
    "search_page = search_page.rename(columns = {'page':'search_page'})\n",
    "payment_page = payment_page.rename(columns = {'page':'payment_page'})\n",
    "payment_confirmation = payment_confirmation.rename(columns = {'page':'payment_confirmation'})"
   ],
   "execution_count": null,
   "outputs": []
  },
  {
   "cell_type": "code",
   "metadata": {
    "id": "SetI3h-PTMYz",
    "colab": {
     "base_uri": "https://localhost:8080/",
     "height": 195
    },
    "outputId": "0c8ae309-c859-4614-ef3a-f87a910e442f"
   },
   "source": [
    "# Склеиваем последовательно все датасеты с помощью метода merge по идентификатору user_id\n",
    "df = user_table.merge(home_page, on = 'user_id', how = 'left').merge(search_page, on = 'user_id', how = 'left') \\\n",
    ".merge(payment_page, on = 'user_id', how = 'left').merge(payment_confirmation, on = 'user_id', how = 'left')\n",
    "df.head()"
   ],
   "execution_count": null,
   "outputs": []
  },
  {
   "cell_type": "code",
   "metadata": {
    "id": "qcwOhuFBUkZu",
    "colab": {
     "base_uri": "https://localhost:8080/"
    },
    "outputId": "a506a89e-6acb-4553-9132-36b40e10159e"
   },
   "source": [
    "df.shape"
   ],
   "execution_count": null,
   "outputs": []
  },
  {
   "cell_type": "code",
   "metadata": {
    "id": "BoY6-Pg-UqdR",
    "colab": {
     "base_uri": "https://localhost:8080/",
     "height": 195
    },
    "outputId": "40db5ccb-9c93-4e4e-bbb4-6dd8c986a90e"
   },
   "source": [
    "# Второй способ: склеиваем все датасеты сразу\n",
    "from functools import reduce\n",
    "\n",
    "data_frames = [user_table, home_page, search_page, payment_page, payment_confirmation]\n",
    "\n",
    "df_merged = reduce(lambda  left,right: pd.merge(left,right,on='user_id', how='left'), data_frames)\n",
    "\n",
    "df_merged.head()"
   ],
   "execution_count": null,
   "outputs": []
  },
  {
   "cell_type": "code",
   "metadata": {
    "id": "DFn_gPNUVbN7",
    "colab": {
     "base_uri": "https://localhost:8080/"
    },
    "outputId": "5547e1d3-bc88-402d-8c77-f22e9035ca8b"
   },
   "source": [
    "df_merged.shape"
   ],
   "execution_count": null,
   "outputs": []
  },
  {
   "cell_type": "code",
   "metadata": {
    "id": "hUGywiqRpk_I",
    "colab": {
     "base_uri": "https://localhost:8080/",
     "height": 195
    },
    "outputId": "113b7765-9a52-4bc6-c936-18c4ded56e1d"
   },
   "source": [
    "# Для удоства последующих расчетов, перекодируем названия событий в 0/1 с помощью лямбда-функции\n",
    "df['home_page'] = df['home_page'].apply(lambda x: 1 if x == 'home_page' else 0)\n",
    "df['search_page'] = df['search_page'].apply(lambda x: 1 if x == 'search_page' else 0)\n",
    "df['payment_page'] = df['payment_page'].apply(lambda x: 1 if x == 'payment_page' else 0)\n",
    "df['payment_confirmation'] = df['payment_confirmation'].apply(lambda x: 1 if x == 'payment_confirmation_page' else 0)\n",
    "\n",
    "df.head()"
   ],
   "execution_count": null,
   "outputs": []
  },
  {
   "cell_type": "code",
   "metadata": {
    "id": "s6ocRzLfQdFD",
    "colab": {
     "base_uri": "https://localhost:8080/"
    },
    "outputId": "780a8c1b-5ed3-4e40-a48c-c3a98bccf12b"
   },
   "source": [
    "# Агрегируем данные: подсчитываем количество пользователей по разным типам устройств\n",
    "df['device'].value_counts()"
   ],
   "execution_count": null,
   "outputs": []
  },
  {
   "cell_type": "code",
   "metadata": {
    "id": "cjzU_oJ8Rl0v",
    "colab": {
     "base_uri": "https://localhost:8080/"
    },
    "outputId": "bb11f0c9-5e19-44d0-880d-a2a908bb8d1a"
   },
   "source": [
    "# Агрегируем данные: подсчитываем общее количество пользователей и сколько из них подтвердили покупку\n",
    "df['payment_confirmation'].agg({'users':'count', 'payers':'sum'})"
   ],
   "execution_count": null,
   "outputs": []
  },
  {
   "cell_type": "code",
   "metadata": {
    "id": "SDPkGefEpkRD",
    "colab": {
     "base_uri": "https://localhost:8080/",
     "height": 164
    },
    "outputId": "80d4f998-01b2-4811-987c-5d9f8aa91d81"
   },
   "source": [
    "щ# Агрегируем данные: подсчитываем сколько пользователей совершило каждое из 4х событий на сайте\n",
    "summary = df[['home_page', 'search_page', 'payment_page', 'payment_confirmation']].sum().reset_index()\n",
    "summary.head()"
   ],
   "execution_count": null,
   "outputs": []
  },
  {
   "cell_type": "code",
   "metadata": {
    "id": "sWFOHlVophKk",
    "colab": {
     "base_uri": "https://localhost:8080/",
     "height": 164
    },
    "outputId": "284e86ff-3473-4d06-8874-855d5def3dd1"
   },
   "source": [
    "# Для удобства переименуем столбцы\n",
    "summary= summary.rename(columns = {'index':'stage', 0:'number'})\n",
    "summary.head()"
   ],
   "execution_count": null,
   "outputs": []
  },
  {
   "cell_type": "code",
   "metadata": {
    "id": "i8SxeCXnW7Mf",
    "colab": {
     "base_uri": "https://localhost:8080/",
     "height": 617
    },
    "outputId": "c13f9d9f-0db2-40f9-f2a2-37a5b16ae089"
   },
   "source": [
    "# Импортируем графическую библиотеку Plotly (https://plotly.com/python/funnel-charts/)\n",
    "from plotly import graph_objects as go\n",
    "\n",
    "# Настраиваем скрипт этой библиотеки для построения воронки конверсий нашими параметрами\n",
    "fig = go.Figure(go.Funnel(\n",
    "    y = summary['stage'],\n",
    "    x = summary['number'],\n",
    "    textinfo = \"value+percent previous\"))\n",
    "\n",
    "fig.update_layout(\n",
    "    title = 'Воронка конверсии Интернет-магазина',\n",
    "    title_x=0.5,\n",
    "    autosize=False,\n",
    "    width=1200,\n",
    "    height=600)\n",
    "\n",
    "fig.show()"
   ],
   "execution_count": null,
   "outputs": []
  },
  {
   "cell_type": "code",
   "metadata": {
    "id": "lQltvQUuoKok",
    "colab": {
     "base_uri": "https://localhost:8080/",
     "height": 164
    },
    "outputId": "3d4aeac3-3d30-47ac-9e30-02b013a8abc6"
   },
   "source": [
    "# Из квиза на уроке мы помним, что лучше сегментировать воронку конверсий в разрезе характеристик пользователей\n",
    "# Подготовим группировку данных по совершению событий на сайте в разрезе типов устройств, используя метод groupby\n",
    "# Метод reset_index() используется для того, чтобы превратить индекс, по которому группируем данные (device), в отдельную колонку датафрейма\n",
    "dfg = df.groupby('device')[['home_page', 'search_page', 'payment_page', 'payment_confirmation']].sum().unstack('device').unstack('device').reset_index()\n",
    "\n",
    "# Уберем ненужный заголовок верхнего уровня\n",
    "dfg.columns.name = None\n",
    "\n",
    "# Переименуем стандартные после процедуры заголовки\n",
    "dfg = dfg.rename(columns = {'index':'Page'})\n",
    "\n",
    "# Посмотрим, что получилось\n",
    "dfg.head()"
   ],
   "execution_count": null,
   "outputs": []
  },
  {
   "cell_type": "code",
   "metadata": {
    "id": "9QToh8EOLXyP",
    "colab": {
     "base_uri": "https://localhost:8080/",
     "height": 617
    },
    "outputId": "774ccaa2-e3a8-4ce2-ca49-67aef07ebee6"
   },
   "source": [
    "# Строим более продвинутый вариант воронки конверсий на сайте с сегментацией по типам устройств\n",
    "\n",
    "\n",
    "# Настраиваем скрипт библиотеки Plotly нашими параметрами\n",
    "fig = go.Figure()\n",
    "\n",
    "# Часть графика для типа устройств Dekstop\n",
    "fig.add_trace(go.Funnel(\n",
    "    y = dfg['Page'],\n",
    "    x = dfg['Desktop'],\n",
    "    name = 'Desktop',\n",
    "    constraintext='outside',\n",
    "    textposition = 'inside',\n",
    "    textinfo = 'value+percent previous'\n",
    "    ))\n",
    "\n",
    "# Часть графика для типа устройств Mobile\n",
    "fig.add_trace(go.Funnel(\n",
    "    y = dfg['Page'],\n",
    "    x = dfg['Mobile'],\n",
    "    name = 'Mobile',\n",
    "    textposition = 'auto',\n",
    "    textinfo = 'value+percent previous'\n",
    "   ))\n",
    "\n",
    "fig.update_layout(\n",
    "    title = 'Воронка конверсии по типам устройств',\n",
    "    title_x=0.5,\n",
    "    autosize=False,\n",
    "    width=1200,\n",
    "    height=600)\n",
    "\n",
    "fig.show()"
   ],
   "execution_count": null,
   "outputs": []
  },
  {
   "cell_type": "markdown",
   "metadata": {
    "id": "ndFOzpGgVgje"
   },
   "source": [
    "А теперь потренируемся в создании сводных таблиц методами groupby, pivot_table, crosstab для ответов на поставленные вопросы:"
   ]
  },
  {
   "cell_type": "markdown",
   "metadata": {
    "id": "6yFRgzgfS1H1"
   },
   "source": [
    "1) Аудитория какого пола и на каких типах устройств больше всего у интернет-магазина?"
   ]
  },
  {
   "cell_type": "code",
   "metadata": {
    "id": "THL3wAbar2cp",
    "colab": {
     "base_uri": "https://localhost:8080/",
     "height": 164
    },
    "outputId": "50c55685-5051-43b6-8527-5e9c10a19542"
   },
   "source": [
    "# Используем метод pivot_table\n",
    "pd.pivot_table(df, index = 'sex', columns = 'device', values = 'home_page', aggfunc = 'sum', margins=True)"
   ],
   "execution_count": null,
   "outputs": []
  },
  {
   "cell_type": "code",
   "metadata": {
    "id": "DNFwirULxTXE",
    "colab": {
     "base_uri": "https://localhost:8080/",
     "height": 164
    },
    "outputId": "fa97d869-1214-4999-90bd-d1548ab1f74f"
   },
   "source": [
    "# Используем функцию crosstab\n",
    "# (по умолчанию рассчитывает частоты, поэтому valus = df['user_id'] и aggfunc = 'count' можно не указывать)\n",
    "pd.crosstab(index = df['sex'], columns = df['device'], margins = True)"
   ],
   "execution_count": null,
   "outputs": []
  },
  {
   "cell_type": "code",
   "metadata": {
    "id": "TFCq6Q3Ew5Xg",
    "colab": {
     "base_uri": "https://localhost:8080/"
    },
    "outputId": "d9a78977-db1b-4988-cdfe-4cce24640e84"
   },
   "source": [
    "# Используем метод groupby\n",
    "df.groupby(['sex', 'device'])['user_id'].count()"
   ],
   "execution_count": null,
   "outputs": []
  },
  {
   "cell_type": "code",
   "metadata": {
    "id": "pXbrO6XzWP3J",
    "colab": {
     "base_uri": "https://localhost:8080/",
     "height": 135
    },
    "outputId": "fc667c6e-2339-4dc2-a79f-fa0563f9fbfd"
   },
   "source": [
    "# Немного не то представление получилось, да? Попробуем добавить метод unstack()\n",
    "df.groupby(['sex', 'device'])['user_id'].count().unstack('device')"
   ],
   "execution_count": null,
   "outputs": []
  },
  {
   "cell_type": "markdown",
   "metadata": {
    "id": "Pgm7YALRszqA"
   },
   "source": [
    "2) Кто чаще всего останавливается только на поиске товаров в интернет-магазине - мужчины или женщины?"
   ]
  },
  {
   "cell_type": "code",
   "metadata": {
    "id": "vyvj6QfNuoIv",
    "colab": {
     "base_uri": "https://localhost:8080/"
    },
    "outputId": "8dbd536f-1264-4da4-ae25-4b7b2c44bf9a"
   },
   "source": [
    "# С этой задачей лучше справится groupby\n",
    "(df.groupby('sex')['search_page'].sum() - df.groupby('sex')['payment_page'].sum()) / df.groupby('sex')['search_page'].sum()"
   ],
   "execution_count": null,
   "outputs": []
  },
  {
   "cell_type": "markdown",
   "metadata": {
    "id": "07a5E841rQJq"
   },
   "source": [
    "3) Кто чаще подтверждает платеж и совершает окончательную покупку?"
   ]
  },
  {
   "cell_type": "code",
   "metadata": {
    "id": "fLavKcYrOgXy",
    "colab": {
     "base_uri": "https://localhost:8080/",
     "height": 135
    },
    "outputId": "fa6b8c21-b1e4-4ec5-d161-bf0d58b59a01"
   },
   "source": [
    "# Используем функцию crosstab и ее параметр normalize для получения относительных частот \n",
    "# (по умолчанию рассчитывает частоты, поэтому valus = df['user_id'] и aggfunc = 'count' можно не указывать)\n",
    "pd.crosstab(index = df['sex'], columns = df['payment_confirmation'], normalize='index')"
   ],
   "execution_count": null,
   "outputs": []
  },
  {
   "cell_type": "code",
   "metadata": {
    "id": "_adKz45MZ-6O",
    "colab": {
     "base_uri": "https://localhost:8080/",
     "height": 135
    },
    "outputId": "35c7bbd9-0dd5-40a5-de2a-b023d82cec8e"
   },
   "source": [
    "# Используем метод pivot_table (по умолчанию рассчитывает средние значения, поэтому  aggfunc = 'mean' можно не указывать)\n",
    "df.pivot_table(index = ['sex'], values = 'payment_confirmation')"
   ],
   "execution_count": null,
   "outputs": []
  },
  {
   "cell_type": "code",
   "metadata": {
    "id": "yP2oSFQCwkym",
    "colab": {
     "base_uri": "https://localhost:8080/"
    },
    "outputId": "4f29b5a0-06c2-4dd1-f9a1-2e914e1d72c6"
   },
   "source": [
    "# Используем метод groupby\n",
    "df.groupby('sex')['payment_confirmation'].mean()"
   ],
   "execution_count": null,
   "outputs": []
  },
  {
   "cell_type": "markdown",
   "metadata": {
    "id": "KE44OdGusZr0"
   },
   "source": [
    "4) И на каких устройствах?"
   ]
  },
  {
   "cell_type": "code",
   "metadata": {
    "id": "lUwXO6fswJ-4",
    "colab": {
     "base_uri": "https://localhost:8080/",
     "height": 194
    },
    "outputId": "7c001295-008d-411e-fa8e-5678e62abe7f"
   },
   "source": [
    "# Используем функцию crosstab и ее параметр normalize для получения относительных частот \n",
    "pd.crosstab(index = [df['sex'], df['device']], columns = df['payment_confirmation'], normalize='index')"
   ],
   "execution_count": null,
   "outputs": []
  },
  {
   "cell_type": "code",
   "metadata": {
    "id": "3s2OuQD1Y6QZ",
    "colab": {
     "base_uri": "https://localhost:8080/",
     "height": 194
    },
    "outputId": "c5f7d240-775b-47a0-9495-b0c2a761662c"
   },
   "source": [
    "# Используем метод pivot_table\n",
    "df.pivot_table(index = ['sex','device'], values = 'payment_confirmation')"
   ],
   "execution_count": null,
   "outputs": []
  },
  {
   "cell_type": "code",
   "metadata": {
    "id": "eToSFXL7zXG2",
    "colab": {
     "base_uri": "https://localhost:8080/"
    },
    "outputId": "647a3bee-48f7-4909-b2de-19924cffe171"
   },
   "source": [
    "# Используем метод groupby\n",
    "df.groupby(['sex', 'device'])['payment_confirmation'].mean()"
   ],
   "execution_count": null,
   "outputs": []
  },
  {
   "cell_type": "code",
   "metadata": {
    "id": "tdcMUqj9Jie2"
   },
   "source": [
    ""
   ],
   "execution_count": null,
   "outputs": []
  }
 ]
}